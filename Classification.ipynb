{
 "cells": [
  {
   "cell_type": "code",
   "execution_count": 399,
   "id": "d8bee7f3",
   "metadata": {},
   "outputs": [],
   "source": [
    "import pandas as pd\n",
    "from sklearn.preprocessing import LabelEncoder\n",
    "from sklearn.ensemble import RandomForestClassifier\n",
    "from sklearn.metrics import accuracy_score, classification_report, confusion_matrix\n",
    "import matplotlib.pyplot as plt\n",
    "from imblearn.over_sampling import SMOTE\n",
    "from imblearn.under_sampling import RandomUnderSampler\n",
    "import numpy as np\n",
    "from sklearn.model_selection import GridSearchCV\n",
    "from sklearn.model_selection import cross_val_score\n",
    "import seaborn as sns\n",
    "from sklearn.model_selection import StratifiedKFold\n",
    "from sklearn.model_selection import cross_val_score"
   ]
  },
  {
   "cell_type": "markdown",
   "id": "736e3953",
   "metadata": {},
   "source": [
    "## Import the data"
   ]
  },
  {
   "cell_type": "code",
   "execution_count": 400,
   "id": "a446a816",
   "metadata": {},
   "outputs": [],
   "source": [
    "X_train_scaled = pd.read_pickle('data/X_train_scaled.pkl')\n",
    "X_test_scaled = pd.read_pickle('data/X_test_scaled.pkl')\n",
    "\n",
    "# X_test_scaled = pd.read_pickle('data/X_test_final.pkl')\n",
    "# X_train_scaled = pd.read_pickle('data/X_train_final.pkl')\n",
    "\n",
    "y_train_motor = pd.read_pickle('data/y_train_motor.pkl')\n",
    "y_test_motor = pd.read_pickle('data/y_test_motor.pkl')\n",
    "y_train_total = pd.read_pickle('data/y_train_total.pkl')\n",
    "y_test_total = pd.read_pickle('data/y_test_total.pkl')"
   ]
  },
  {
   "cell_type": "code",
   "execution_count": 401,
   "id": "6c51ca2a",
   "metadata": {},
   "outputs": [
    {
     "data": {
      "application/vnd.microsoft.datawrangler.viewer.v0+json": {
       "columns": [
        {
         "name": "index",
         "rawType": "object",
         "type": "string"
        },
        {
         "name": "sex",
         "rawType": "float64",
         "type": "float"
        },
        {
         "name": "Jitter(%)",
         "rawType": "float64",
         "type": "float"
        },
        {
         "name": "Jitter(Abs)",
         "rawType": "float64",
         "type": "float"
        },
        {
         "name": "Jitter:RAP",
         "rawType": "float64",
         "type": "float"
        },
        {
         "name": "Jitter:PPQ5",
         "rawType": "float64",
         "type": "float"
        },
        {
         "name": "Jitter:DDP",
         "rawType": "float64",
         "type": "float"
        },
        {
         "name": "Shimmer",
         "rawType": "float64",
         "type": "float"
        },
        {
         "name": "Shimmer:APQ3",
         "rawType": "float64",
         "type": "float"
        },
        {
         "name": "Shimmer:APQ5",
         "rawType": "float64",
         "type": "float"
        },
        {
         "name": "Shimmer:APQ11",
         "rawType": "float64",
         "type": "float"
        },
        {
         "name": "Shimmer:DDA",
         "rawType": "float64",
         "type": "float"
        },
        {
         "name": "NHR",
         "rawType": "float64",
         "type": "float"
        },
        {
         "name": "RPDE",
         "rawType": "float64",
         "type": "float"
        },
        {
         "name": "DFA",
         "rawType": "float64",
         "type": "float"
        },
        {
         "name": "PPE",
         "rawType": "float64",
         "type": "float"
        },
        {
         "name": "age",
         "rawType": "float64",
         "type": "float"
        },
        {
         "name": "test_time",
         "rawType": "float64",
         "type": "float"
        },
        {
         "name": "Shimmer(dB)",
         "rawType": "float64",
         "type": "float"
        },
        {
         "name": "HNR",
         "rawType": "float64",
         "type": "float"
        }
       ],
       "conversionMethod": "pd.DataFrame",
       "ref": "3307d233-e33e-477c-b27b-3463952076f5",
       "rows": [
        [
         "count",
         "4319.0",
         "4319.0",
         "4319.0",
         "4319.0",
         "4319.0",
         "4319.0",
         "4319.0",
         "4319.0",
         "4319.0",
         "4319.0",
         "4319.0",
         "4319.0",
         "4319.0",
         "4319.0",
         "4319.0",
         "4319.0",
         "4319.0",
         "4319.0",
         "4319.0"
        ],
        [
         "mean",
         "0.3211391525816161",
         "0.005252248205603149",
         "3.865238944200046e-05",
         "0.002510944663116462",
         "0.002714531141467933",
         "0.007532896503820328",
         "0.030499342440379714",
         "0.015397566566334798",
         "0.017834482519101642",
         "0.024883878212549202",
         "0.04619248205603149",
         "0.023635503357258624",
         "0.5337220444547349",
         "0.6499558462607086",
         "0.20745957837462378",
         "0.5430216126018953",
         "0.4316317690180495",
         "0.13031911345885774",
         "0.5149666176649098"
        ],
        [
         "std",
         "0.4669681848203264",
         "0.002611479169545451",
         "2.4944968269176027e-05",
         "0.0014327018646987499",
         "0.0014283755292343095",
         "0.004298077385726728",
         "0.0194934553840451",
         "0.010413887420649463",
         "0.012049354713362739",
         "0.01587326178599444",
         "0.03124168737015047",
         "0.02882954240597742",
         "0.10190076342854322",
         "0.06766206832806103",
         "0.0801595097120275",
         "0.27500271087083966",
         "0.2474843210895084",
         "0.0908248411704321",
         "0.1185559738022049"
        ],
        [
         "min",
         "0.0",
         "0.00083",
         "2.25e-06",
         "0.00033",
         "0.00043",
         "0.00098",
         "0.00306",
         "0.00161",
         "0.00194",
         "0.00249",
         "0.00484",
         "0.000286",
         "0.23945",
         "0.51404",
         "0.021983",
         "0.0",
         "0.0",
         "0.0",
         "0.0"
        ],
        [
         "25%",
         "0.0",
         "0.0034",
         "2.062e-05",
         "0.00149",
         "0.00172",
         "0.00446",
         "0.01797",
         "0.008615",
         "0.01011",
         "0.014675",
         "0.025840000000000002",
         "0.0099085",
         "0.458145",
         "0.5937950000000001",
         "0.149275",
         "0.31034482758620685",
         "0.22236885858545313",
         "0.07150205761316873",
         "0.4365096762071773"
        ],
        [
         "50%",
         "0.0",
         "0.00464",
         "3.234e-05",
         "0.00212",
         "0.00237",
         "0.00635",
         "0.0259",
         "0.0127",
         "0.01493",
         "0.02156",
         "0.03811",
         "0.017005",
         "0.53648",
         "0.64575",
         "0.19774",
         "0.5517241379310343",
         "0.42237221685947524",
         "0.10905349794238683",
         "0.513246070019415"
        ],
        [
         "75%",
         "1.0",
         "0.00644",
         "4.9670000000000004e-05",
         "0.00313",
         "0.00333",
         "0.00938",
         "0.03704",
         "0.019035",
         "0.021865000000000002",
         "0.03071",
         "0.057115",
         "0.028546",
         "0.612245",
         "0.7071449999999999",
         "0.25489",
         "0.7931034482758621",
         "0.6417065818310214",
         "0.16152263374485598",
         "0.5964489259096888"
        ],
        [
         "max",
         "1.0",
         "0.01778",
         "0.00016735",
         "0.0083",
         "0.01257",
         "0.02491",
         "0.23915",
         "0.16267",
         "0.16246",
         "0.20585",
         "0.48802",
         "0.44594",
         "0.83148",
         "0.83627",
         "0.55827",
         "1.0",
         "1.0000000000000002",
         "0.9999999999999999",
         "1.0000000000000002"
        ]
       ],
       "shape": {
        "columns": 19,
        "rows": 8
       }
      },
      "text/html": [
       "<div>\n",
       "<style scoped>\n",
       "    .dataframe tbody tr th:only-of-type {\n",
       "        vertical-align: middle;\n",
       "    }\n",
       "\n",
       "    .dataframe tbody tr th {\n",
       "        vertical-align: top;\n",
       "    }\n",
       "\n",
       "    .dataframe thead th {\n",
       "        text-align: right;\n",
       "    }\n",
       "</style>\n",
       "<table border=\"1\" class=\"dataframe\">\n",
       "  <thead>\n",
       "    <tr style=\"text-align: right;\">\n",
       "      <th></th>\n",
       "      <th>sex</th>\n",
       "      <th>Jitter(%)</th>\n",
       "      <th>Jitter(Abs)</th>\n",
       "      <th>Jitter:RAP</th>\n",
       "      <th>Jitter:PPQ5</th>\n",
       "      <th>Jitter:DDP</th>\n",
       "      <th>Shimmer</th>\n",
       "      <th>Shimmer:APQ3</th>\n",
       "      <th>Shimmer:APQ5</th>\n",
       "      <th>Shimmer:APQ11</th>\n",
       "      <th>Shimmer:DDA</th>\n",
       "      <th>NHR</th>\n",
       "      <th>RPDE</th>\n",
       "      <th>DFA</th>\n",
       "      <th>PPE</th>\n",
       "      <th>age</th>\n",
       "      <th>test_time</th>\n",
       "      <th>Shimmer(dB)</th>\n",
       "      <th>HNR</th>\n",
       "    </tr>\n",
       "  </thead>\n",
       "  <tbody>\n",
       "    <tr>\n",
       "      <th>count</th>\n",
       "      <td>4319.000000</td>\n",
       "      <td>4319.000000</td>\n",
       "      <td>4319.000000</td>\n",
       "      <td>4319.000000</td>\n",
       "      <td>4319.000000</td>\n",
       "      <td>4319.000000</td>\n",
       "      <td>4319.000000</td>\n",
       "      <td>4319.000000</td>\n",
       "      <td>4319.000000</td>\n",
       "      <td>4319.000000</td>\n",
       "      <td>4319.000000</td>\n",
       "      <td>4319.000000</td>\n",
       "      <td>4319.000000</td>\n",
       "      <td>4319.000000</td>\n",
       "      <td>4319.000000</td>\n",
       "      <td>4319.000000</td>\n",
       "      <td>4319.000000</td>\n",
       "      <td>4319.000000</td>\n",
       "      <td>4319.000000</td>\n",
       "    </tr>\n",
       "    <tr>\n",
       "      <th>mean</th>\n",
       "      <td>0.321139</td>\n",
       "      <td>0.005252</td>\n",
       "      <td>0.000039</td>\n",
       "      <td>0.002511</td>\n",
       "      <td>0.002715</td>\n",
       "      <td>0.007533</td>\n",
       "      <td>0.030499</td>\n",
       "      <td>0.015398</td>\n",
       "      <td>0.017834</td>\n",
       "      <td>0.024884</td>\n",
       "      <td>0.046192</td>\n",
       "      <td>0.023636</td>\n",
       "      <td>0.533722</td>\n",
       "      <td>0.649956</td>\n",
       "      <td>0.207460</td>\n",
       "      <td>0.543022</td>\n",
       "      <td>0.431632</td>\n",
       "      <td>0.130319</td>\n",
       "      <td>0.514967</td>\n",
       "    </tr>\n",
       "    <tr>\n",
       "      <th>std</th>\n",
       "      <td>0.466968</td>\n",
       "      <td>0.002611</td>\n",
       "      <td>0.000025</td>\n",
       "      <td>0.001433</td>\n",
       "      <td>0.001428</td>\n",
       "      <td>0.004298</td>\n",
       "      <td>0.019493</td>\n",
       "      <td>0.010414</td>\n",
       "      <td>0.012049</td>\n",
       "      <td>0.015873</td>\n",
       "      <td>0.031242</td>\n",
       "      <td>0.028830</td>\n",
       "      <td>0.101901</td>\n",
       "      <td>0.067662</td>\n",
       "      <td>0.080160</td>\n",
       "      <td>0.275003</td>\n",
       "      <td>0.247484</td>\n",
       "      <td>0.090825</td>\n",
       "      <td>0.118556</td>\n",
       "    </tr>\n",
       "    <tr>\n",
       "      <th>min</th>\n",
       "      <td>0.000000</td>\n",
       "      <td>0.000830</td>\n",
       "      <td>0.000002</td>\n",
       "      <td>0.000330</td>\n",
       "      <td>0.000430</td>\n",
       "      <td>0.000980</td>\n",
       "      <td>0.003060</td>\n",
       "      <td>0.001610</td>\n",
       "      <td>0.001940</td>\n",
       "      <td>0.002490</td>\n",
       "      <td>0.004840</td>\n",
       "      <td>0.000286</td>\n",
       "      <td>0.239450</td>\n",
       "      <td>0.514040</td>\n",
       "      <td>0.021983</td>\n",
       "      <td>0.000000</td>\n",
       "      <td>0.000000</td>\n",
       "      <td>0.000000</td>\n",
       "      <td>0.000000</td>\n",
       "    </tr>\n",
       "    <tr>\n",
       "      <th>25%</th>\n",
       "      <td>0.000000</td>\n",
       "      <td>0.003400</td>\n",
       "      <td>0.000021</td>\n",
       "      <td>0.001490</td>\n",
       "      <td>0.001720</td>\n",
       "      <td>0.004460</td>\n",
       "      <td>0.017970</td>\n",
       "      <td>0.008615</td>\n",
       "      <td>0.010110</td>\n",
       "      <td>0.014675</td>\n",
       "      <td>0.025840</td>\n",
       "      <td>0.009909</td>\n",
       "      <td>0.458145</td>\n",
       "      <td>0.593795</td>\n",
       "      <td>0.149275</td>\n",
       "      <td>0.310345</td>\n",
       "      <td>0.222369</td>\n",
       "      <td>0.071502</td>\n",
       "      <td>0.436510</td>\n",
       "    </tr>\n",
       "    <tr>\n",
       "      <th>50%</th>\n",
       "      <td>0.000000</td>\n",
       "      <td>0.004640</td>\n",
       "      <td>0.000032</td>\n",
       "      <td>0.002120</td>\n",
       "      <td>0.002370</td>\n",
       "      <td>0.006350</td>\n",
       "      <td>0.025900</td>\n",
       "      <td>0.012700</td>\n",
       "      <td>0.014930</td>\n",
       "      <td>0.021560</td>\n",
       "      <td>0.038110</td>\n",
       "      <td>0.017005</td>\n",
       "      <td>0.536480</td>\n",
       "      <td>0.645750</td>\n",
       "      <td>0.197740</td>\n",
       "      <td>0.551724</td>\n",
       "      <td>0.422372</td>\n",
       "      <td>0.109053</td>\n",
       "      <td>0.513246</td>\n",
       "    </tr>\n",
       "    <tr>\n",
       "      <th>75%</th>\n",
       "      <td>1.000000</td>\n",
       "      <td>0.006440</td>\n",
       "      <td>0.000050</td>\n",
       "      <td>0.003130</td>\n",
       "      <td>0.003330</td>\n",
       "      <td>0.009380</td>\n",
       "      <td>0.037040</td>\n",
       "      <td>0.019035</td>\n",
       "      <td>0.021865</td>\n",
       "      <td>0.030710</td>\n",
       "      <td>0.057115</td>\n",
       "      <td>0.028546</td>\n",
       "      <td>0.612245</td>\n",
       "      <td>0.707145</td>\n",
       "      <td>0.254890</td>\n",
       "      <td>0.793103</td>\n",
       "      <td>0.641707</td>\n",
       "      <td>0.161523</td>\n",
       "      <td>0.596449</td>\n",
       "    </tr>\n",
       "    <tr>\n",
       "      <th>max</th>\n",
       "      <td>1.000000</td>\n",
       "      <td>0.017780</td>\n",
       "      <td>0.000167</td>\n",
       "      <td>0.008300</td>\n",
       "      <td>0.012570</td>\n",
       "      <td>0.024910</td>\n",
       "      <td>0.239150</td>\n",
       "      <td>0.162670</td>\n",
       "      <td>0.162460</td>\n",
       "      <td>0.205850</td>\n",
       "      <td>0.488020</td>\n",
       "      <td>0.445940</td>\n",
       "      <td>0.831480</td>\n",
       "      <td>0.836270</td>\n",
       "      <td>0.558270</td>\n",
       "      <td>1.000000</td>\n",
       "      <td>1.000000</td>\n",
       "      <td>1.000000</td>\n",
       "      <td>1.000000</td>\n",
       "    </tr>\n",
       "  </tbody>\n",
       "</table>\n",
       "</div>"
      ],
      "text/plain": [
       "               sex    Jitter(%)  Jitter(Abs)   Jitter:RAP  Jitter:PPQ5  \\\n",
       "count  4319.000000  4319.000000  4319.000000  4319.000000  4319.000000   \n",
       "mean      0.321139     0.005252     0.000039     0.002511     0.002715   \n",
       "std       0.466968     0.002611     0.000025     0.001433     0.001428   \n",
       "min       0.000000     0.000830     0.000002     0.000330     0.000430   \n",
       "25%       0.000000     0.003400     0.000021     0.001490     0.001720   \n",
       "50%       0.000000     0.004640     0.000032     0.002120     0.002370   \n",
       "75%       1.000000     0.006440     0.000050     0.003130     0.003330   \n",
       "max       1.000000     0.017780     0.000167     0.008300     0.012570   \n",
       "\n",
       "        Jitter:DDP      Shimmer  Shimmer:APQ3  Shimmer:APQ5  Shimmer:APQ11  \\\n",
       "count  4319.000000  4319.000000   4319.000000   4319.000000    4319.000000   \n",
       "mean      0.007533     0.030499      0.015398      0.017834       0.024884   \n",
       "std       0.004298     0.019493      0.010414      0.012049       0.015873   \n",
       "min       0.000980     0.003060      0.001610      0.001940       0.002490   \n",
       "25%       0.004460     0.017970      0.008615      0.010110       0.014675   \n",
       "50%       0.006350     0.025900      0.012700      0.014930       0.021560   \n",
       "75%       0.009380     0.037040      0.019035      0.021865       0.030710   \n",
       "max       0.024910     0.239150      0.162670      0.162460       0.205850   \n",
       "\n",
       "       Shimmer:DDA          NHR         RPDE          DFA          PPE  \\\n",
       "count  4319.000000  4319.000000  4319.000000  4319.000000  4319.000000   \n",
       "mean      0.046192     0.023636     0.533722     0.649956     0.207460   \n",
       "std       0.031242     0.028830     0.101901     0.067662     0.080160   \n",
       "min       0.004840     0.000286     0.239450     0.514040     0.021983   \n",
       "25%       0.025840     0.009909     0.458145     0.593795     0.149275   \n",
       "50%       0.038110     0.017005     0.536480     0.645750     0.197740   \n",
       "75%       0.057115     0.028546     0.612245     0.707145     0.254890   \n",
       "max       0.488020     0.445940     0.831480     0.836270     0.558270   \n",
       "\n",
       "               age    test_time  Shimmer(dB)          HNR  \n",
       "count  4319.000000  4319.000000  4319.000000  4319.000000  \n",
       "mean      0.543022     0.431632     0.130319     0.514967  \n",
       "std       0.275003     0.247484     0.090825     0.118556  \n",
       "min       0.000000     0.000000     0.000000     0.000000  \n",
       "25%       0.310345     0.222369     0.071502     0.436510  \n",
       "50%       0.551724     0.422372     0.109053     0.513246  \n",
       "75%       0.793103     0.641707     0.161523     0.596449  \n",
       "max       1.000000     1.000000     1.000000     1.000000  "
      ]
     },
     "execution_count": 401,
     "metadata": {},
     "output_type": "execute_result"
    }
   ],
   "source": [
    "X_train_scaled.describe()"
   ]
  },
  {
   "cell_type": "code",
   "execution_count": 402,
   "id": "c08b74a2",
   "metadata": {},
   "outputs": [
    {
     "name": "stdout",
     "output_type": "stream",
     "text": [
      "Remaining columns after dropping small-value columns: Index(['sex', 'Shimmer', 'Shimmer:APQ3', 'Shimmer:APQ5', 'Shimmer:APQ11',\n",
      "       'Shimmer:DDA', 'NHR', 'RPDE', 'DFA', 'PPE', 'age', 'test_time',\n",
      "       'Shimmer(dB)', 'HNR'],\n",
      "      dtype='object')\n",
      "Number of remaining columns: 14\n"
     ]
    }
   ],
   "source": [
    "mean_values = X_train_scaled.mean()\n",
    "\n",
    "threshold = 1e-2  \n",
    "\n",
    "small_columns = mean_values[abs(mean_values) < threshold].index\n",
    "\n",
    "X_train_scaled = X_train_scaled.drop(columns=small_columns)\n",
    "X_test_scaled = X_test_scaled.drop(columns=small_columns)\n",
    "\n",
    "print(\"Remaining columns after dropping small-value columns:\", X_train_scaled.columns)\n",
    "print(\"Number of remaining columns:\", len(X_train_scaled.columns))"
   ]
  },
  {
   "cell_type": "markdown",
   "id": "f3755927",
   "metadata": {},
   "source": [
    "## Binning the target for classification task"
   ]
  },
  {
   "cell_type": "code",
   "execution_count": 403,
   "id": "16eb650a",
   "metadata": {},
   "outputs": [],
   "source": [
    "# bin the target from 1 to 32 as mild, 33 to 58 as moderate, and 59 and above\n",
    "def get_severity(score):\n",
    "    if score < 33:\n",
    "        return \"mild\"\n",
    "    elif score < 59:\n",
    "        return \"moderate\"\n",
    "    else:\n",
    "        return \"severe\""
   ]
  },
  {
   "cell_type": "code",
   "execution_count": 404,
   "id": "19cf53cc",
   "metadata": {},
   "outputs": [],
   "source": [
    "y_train_motor_class = y_train_motor.apply(get_severity)\n",
    "y_test_motor_class = y_test_motor.apply(get_severity)\n",
    "y_train_total_class = y_train_total.apply(get_severity)\n",
    "y_test_total_class = y_test_total.apply(get_severity)"
   ]
  },
  {
   "cell_type": "code",
   "execution_count": 405,
   "id": "e0724296",
   "metadata": {},
   "outputs": [
    {
     "data": {
      "image/png": "[encoded data removed]",
      "text/plain": [
       "<Figure size 1000x600 with 2 Axes>"
      ]
     },
     "metadata": {},
     "output_type": "display_data"
    }
   ],
   "source": [
    "plt.figure(figsize=(10, 6))\n",
    "\n",
    "plt.subplot(1, 2, 1)\n",
    "pd.Series(y_train_motor_class).value_counts().plot(kind='bar', color='skyblue')\n",
    "plt.title('Distribution of Motor UPDRS (Train)')\n",
    "plt.xlabel('Severity')\n",
    "plt.ylabel('Count')\n",
    "\n",
    "plt.subplot(1, 2, 2)\n",
    "pd.Series(y_train_total_class).value_counts().plot(kind='bar', color='lightgreen')\n",
    "plt.title('Distribution of Total UPDRS (Train)')\n",
    "plt.xlabel('Severity')\n",
    "plt.ylabel('Count')\n",
    "\n",
    "plt.tight_layout()\n",
    "plt.show()"
   ]
  },
  {
   "cell_type": "markdown",
   "id": "2ce76958",
   "metadata": {},
   "source": [
    "The distribution is imbalanced. so we go with 2 options: adjusting the thresholds (this might not align with the real world), resampling"
   ]
  },
  {
   "cell_type": "markdown",
   "id": "bfec1844",
   "metadata": {},
   "source": [
    "## Preprocessing"
   ]
  },
  {
   "cell_type": "markdown",
   "id": "8e4c3837",
   "metadata": {},
   "source": [
    "### Adjusting the Threshold"
   ]
  },
  {
   "cell_type": "code",
   "execution_count": 406,
   "id": "6d418954",
   "metadata": {},
   "outputs": [],
   "source": [
    "def get_severity_adjusted_total(score):\n",
    "    if score < 24:\n",
    "        return \"mild\"\n",
    "    elif score < 34:\n",
    "        return \"moderate\"\n",
    "    else:\n",
    "        return \"severe\""
   ]
  },
  {
   "cell_type": "code",
   "execution_count": 407,
   "id": "1116d634",
   "metadata": {},
   "outputs": [],
   "source": [
    "def get_severity_adjusted_motor(score):\n",
    "    if score < 23:\n",
    "        return \"mild\"\n",
    "    elif score < 40:\n",
    "        return \"moderate\"\n",
    "    else:\n",
    "        return \"severe\""
   ]
  },
  {
   "cell_type": "code",
   "execution_count": 408,
   "id": "5423de5f",
   "metadata": {},
   "outputs": [],
   "source": [
    "y_train_motor_adjusted_class = y_train_motor.apply(get_severity_adjusted_motor)\n",
    "y_test_motor_adjusted_class = y_test_motor.apply(get_severity_adjusted_motor)\n",
    "y_train_total_adjusted_class = y_train_total.apply(get_severity_adjusted_total)\n",
    "y_test_total_adjusted_class = y_test_total.apply(get_severity_adjusted_total)"
   ]
  },
  {
   "cell_type": "code",
   "execution_count": 409,
   "id": "25b54f73",
   "metadata": {},
   "outputs": [
    {
     "data": {
      "image/png": "[encoded data removed]",
      "text/plain": [
       "<Figure size 1000x600 with 2 Axes>"
      ]
     },
     "metadata": {},
     "output_type": "display_data"
    }
   ],
   "source": [
    "plt.figure(figsize=(10, 6))\n",
    "plt.subplot(1, 2, 1)\n",
    "pd.Series(y_train_motor_adjusted_class).value_counts().plot(kind='bar', color='skyblue')\n",
    "plt.title('Distribution of Motor UPDRS (Train, Adjusted)')\n",
    "plt.xlabel('Severity')\n",
    "plt.ylabel('Count')\n",
    "plt.subplot(1, 2, 2)\n",
    "pd.Series(y_train_total_adjusted_class).value_counts().plot(kind='bar', color='lightgreen')\n",
    "plt.title('Distribution of Total UPDRS (Train, Adjusted)')\n",
    "plt.xlabel('Severity')\n",
    "plt.ylabel('Count')\n",
    "plt.tight_layout()\n",
    "plt.show()"
   ]
  },
  {
   "cell_type": "code",
   "execution_count": 410,
   "id": "d066ee62",
   "metadata": {},
   "outputs": [
    {
     "data": {
      "image/png": "[encoded data removed]",
      "text/plain": [
       "<Figure size 1000x600 with 2 Axes>"
      ]
     },
     "metadata": {},
     "output_type": "display_data"
    }
   ],
   "source": [
    "plt.figure(figsize=(10, 6))\n",
    "plt.subplot(1, 2, 1)\n",
    "pd.Series(y_test_motor_adjusted_class).value_counts().plot(kind='bar', color='skyblue')\n",
    "plt.title('Distribution of Motor UPDRS (Test, Adjusted)')\n",
    "plt.xlabel('Severity')\n",
    "plt.ylabel('Count')\n",
    "plt.subplot(1, 2, 2)\n",
    "pd.Series(y_test_total_adjusted_class).value_counts().plot(kind='bar', color='lightgreen')\n",
    "plt.title('Distribution of Total UPDRS (Test, Adjusted)')\n",
    "plt.xlabel('Severity')\n",
    "plt.ylabel('Count')\n",
    "plt.tight_layout()\n",
    "plt.show()"
   ]
  },
  {
   "cell_type": "markdown",
   "id": "b92783a7",
   "metadata": {},
   "source": [
    "### Resampling"
   ]
  },
  {
   "cell_type": "code",
   "execution_count": 411,
   "id": "0f0de80c",
   "metadata": {},
   "outputs": [],
   "source": [
    "smote_motor = SMOTE(random_state=42, sampling_strategy='auto')\n",
    "X_train_motor_resampled, y_train_motor_resampled = smote_motor.fit_resample(X_train_scaled, y_train_motor_class)\n",
    "\n",
    "smote_total = SMOTE(random_state=42, sampling_strategy='auto')\n",
    "X_train_total_resampled, y_train_total_resampled = smote_total.fit_resample(X_train_scaled, y_train_total_class)"
   ]
  },
  {
   "cell_type": "code",
   "execution_count": 412,
   "id": "1c4ffb7a",
   "metadata": {},
   "outputs": [
    {
     "data": {
      "image/png": "[encoded data removed]",
      "text/plain": [
       "<Figure size 1000x600 with 2 Axes>"
      ]
     },
     "metadata": {},
     "output_type": "display_data"
    }
   ],
   "source": [
    "plt.figure(figsize=(10, 6))\n",
    "plt.subplot(1, 2, 1)\n",
    "pd.Series(y_train_motor_resampled).value_counts().plot(kind='bar', color='skyblue')\n",
    "plt.title('Distribution of Motor UPDRS (Train, Resampled)')\n",
    "plt.xlabel('Severity')\n",
    "plt.ylabel('Count')\n",
    "plt.subplot(1, 2, 2)\n",
    "pd.Series(y_train_total_resampled).value_counts().plot(kind='bar', color='lightgreen')\n",
    "plt.title('Distribution of Total UPDRS (Train, Resampled)')\n",
    "plt.xlabel('Severity')\n",
    "plt.ylabel('Count')\n",
    "plt.tight_layout()\n",
    "plt.show()"
   ]
  },
  {
   "cell_type": "markdown",
   "id": "4f226e97",
   "metadata": {},
   "source": [
    "### Encoding"
   ]
  },
  {
   "cell_type": "code",
   "execution_count": 413,
   "id": "845339d0",
   "metadata": {},
   "outputs": [],
   "source": [
    "label_encoder_motor_adjusted = LabelEncoder()\n",
    "label_encoder_total_adjusted = LabelEncoder()\n",
    "label_encoder_motor_resampled = LabelEncoder()\n",
    "label_encoder_total_resampled = LabelEncoder()"
   ]
  },
  {
   "cell_type": "code",
   "execution_count": 414,
   "id": "b3ff1478",
   "metadata": {},
   "outputs": [],
   "source": [
    "y_train_motor_adjusted_class_encoded = label_encoder_motor_adjusted.fit_transform(y_train_motor_adjusted_class)\n",
    "y_test_motor_adjusted_class_encoded = label_encoder_motor_adjusted.transform(y_test_motor_adjusted_class)\n",
    "\n",
    "y_train_total_adjusted_class_encoded = label_encoder_total_adjusted.fit_transform(y_train_total_adjusted_class)\n",
    "y_test_total_adjusted_class_encoded = label_encoder_total_adjusted.transform(y_test_total_adjusted_class)\n",
    "\n",
    "y_train_motor_resampled_encoded = label_encoder_motor_resampled.fit_transform(y_train_motor_resampled)\n",
    "y_test_motor_resampled_encoded = label_encoder_motor_resampled.transform(y_test_motor_class)\n",
    "\n",
    "y_train_total_resampled_encoded = label_encoder_total_resampled.fit_transform(y_train_total_resampled)\n",
    "y_test_total_resampled_encoded = label_encoder_total_resampled.transform(y_test_total_class)"
   ]
  },
  {
   "cell_type": "markdown",
   "id": "31daf770",
   "metadata": {},
   "source": [
    "## Models"
   ]
  },
  {
   "cell_type": "markdown",
   "id": "2e5645a7",
   "metadata": {},
   "source": [
    "### Random Forest"
   ]
  },
  {
   "cell_type": "markdown",
   "id": "89f31ac3",
   "metadata": {},
   "source": [
    "#### Motor UPDRS Adjusted"
   ]
  },
  {
   "cell_type": "code",
   "execution_count": 415,
   "id": "379ddad4",
   "metadata": {},
   "outputs": [],
   "source": [
    "param_grid = {\n",
    "    'n_estimators': [100, 150], \n",
    "    'max_depth': [10, 15],     \n",
    "    'min_samples_split': [5, 10],  \n",
    "    'min_samples_leaf': [2, 4],   \n",
    "    'bootstrap': [True],       \n",
    "    'criterion': ['gini'],\n",
    "    'max_features': ['sqrt']\n",
    "}"
   ]
  },
  {
   "cell_type": "code",
   "execution_count": 416,
   "id": "70b6de0f",
   "metadata": {},
   "outputs": [
    {
     "name": "stdout",
     "output_type": "stream",
     "text": [
      "Fitting 5 folds for each of 16 candidates, totalling 80 fits\n",
      "Best parameters found by GridSearchCV:\n",
      "{'bootstrap': True, 'criterion': 'gini', 'max_depth': 15, 'max_features': 'sqrt', 'min_samples_leaf': 4, 'min_samples_split': 10, 'n_estimators': 150}\n"
     ]
    }
   ],
   "source": [
    "rf_motor_adjusted = RandomForestClassifier(random_state=42)\n",
    "grid_search = GridSearchCV(estimator=rf_motor_adjusted, param_grid=param_grid, cv=5, verbose=1, n_jobs=-1, scoring='accuracy')\n",
    "grid_search.fit(X_train_scaled, y_train_motor_adjusted_class_encoded)\n",
    "best_params = grid_search.best_params_\n",
    "print(\"Best parameters found by GridSearchCV:\")\n",
    "print(best_params)"
   ]
  },
  {
   "cell_type": "code",
   "execution_count": 417,
   "id": "905389d1",
   "metadata": {},
   "outputs": [
    {
     "name": "stdout",
     "output_type": "stream",
     "text": [
      "Train Accuracy: 0.9895809215096087\n",
      "Test Accuracy: 0.44435351882160395\n",
      "Classification Report:\n",
      "               precision    recall  f1-score   support\n",
      "\n",
      "           0       0.65      0.50      0.57       884\n",
      "           1       0.19      0.30      0.23       338\n",
      "\n",
      "    accuracy                           0.44      1222\n",
      "   macro avg       0.42      0.40      0.40      1222\n",
      "weighted avg       0.52      0.44      0.47      1222\n",
      "\n"
     ]
    }
   ],
   "source": [
    "best_rf_model = grid_search.best_estimator_\n",
    "y_train_motor_adjusted_pred = best_rf_model.predict(X_train_scaled)\n",
    "y_test_motor_adjusted_pred = best_rf_model.predict(X_test_scaled)\n",
    "print(\"Train Accuracy:\", accuracy_score(y_train_motor_adjusted_class_encoded, y_train_motor_adjusted_pred))\n",
    "print(\"Test Accuracy:\", accuracy_score(y_test_motor_adjusted_class_encoded, y_test_motor_adjusted_pred))\n",
    "print(\"Classification Report:\\n\", classification_report(y_test_motor_adjusted_class_encoded, y_test_motor_adjusted_pred))"
   ]
  },
  {
   "cell_type": "code",
   "execution_count": 418,
   "id": "18efebe6",
   "metadata": {},
   "outputs": [
    {
     "data": {
      "image/png": "[encoded data removed]",
      "text/plain": [
       "<Figure size 800x600 with 2 Axes>"
      ]
     },
     "metadata": {},
     "output_type": "display_data"
    }
   ],
   "source": [
    "conf_matrix = confusion_matrix(y_test_motor_adjusted_class_encoded, y_test_motor_adjusted_pred)\n",
    "plt.figure(figsize=(8, 6))\n",
    "sns.heatmap(conf_matrix, annot=True, fmt='d', cmap='Blues', xticklabels=label_encoder_motor_adjusted.classes_, yticklabels=label_encoder_motor_adjusted.classes_)\n",
    "plt.title('Confusion Matrix for Motor UPDRS (Adjusted)')\n",
    "plt.xlabel('Predicted')\n",
    "plt.ylabel('True')\n",
    "plt.show()"
   ]
  },
  {
   "cell_type": "code",
   "execution_count": 419,
   "id": "29433cfb",
   "metadata": {},
   "outputs": [
    {
     "data": {
      "text/plain": [
       "<Figure size 1000x600 with 0 Axes>"
      ]
     },
     "metadata": {},
     "output_type": "display_data"
    },
    {
     "data": {
      "image/png": "[encoded data removed]",
      "text/plain": [
       "<Figure size 640x480 with 1 Axes>"
      ]
     },
     "metadata": {},
     "output_type": "display_data"
    }
   ],
   "source": [
    "feature_importances = pd.DataFrame(best_rf_model.feature_importances_,\n",
    "                                   index=X_train_scaled.columns,\n",
    "                                   columns=['importance']).sort_values('importance', ascending=False)\n",
    "\n",
    "plt.figure(figsize=(10, 6))\n",
    "feature_importances.plot(kind='bar', color='skyblue')\n",
    "plt.title('Feature Importances')\n",
    "plt.xlabel('Features')\n",
    "plt.ylabel('Importance')\n",
    "plt.show()"
   ]
  },
  {
   "cell_type": "code",
   "execution_count": 420,
   "id": "a5384722",
   "metadata": {},
   "outputs": [
    {
     "name": "stdout",
     "output_type": "stream",
     "text": [
      "Cross-validation scores: [0.45138889 0.49768519 0.67476852 0.70486111 0.56662804]\n",
      "Mean cross-validation score: 0.5790663490837303\n"
     ]
    }
   ],
   "source": [
    "cv_scores = cross_val_score(best_rf_model, X_train_scaled, y_train_motor_adjusted_class_encoded, cv=5, scoring='accuracy')\n",
    "\n",
    "print(f\"Cross-validation scores: {cv_scores}\")\n",
    "print(f\"Mean cross-validation score: {cv_scores.mean()}\")\n"
   ]
  },
  {
   "cell_type": "markdown",
   "id": "ac47f796",
   "metadata": {},
   "source": [
    " The mean cross-validation score is about 0.59, which indicates that while the model performs better than random chance, it can still be significantly improved."
   ]
  },
  {
   "cell_type": "code",
   "execution_count": 421,
   "id": "f4b2cfc5",
   "metadata": {},
   "outputs": [
    {
     "name": "stdout",
     "output_type": "stream",
     "text": [
      "Stratified K-Fold Cross-validation scores: [0.93981481 0.95601852 0.9525463  0.93981481 0.94669757]\n",
      "Mean cross-validation score: 0.9469784022144973\n"
     ]
    }
   ],
   "source": [
    "skf = StratifiedKFold(n_splits=5, shuffle=True, random_state=42)\n",
    "\n",
    "cv_scores = cross_val_score(rf_motor_adjusted, X_train_scaled, y_train_motor_adjusted_class_encoded, cv=skf, scoring='accuracy')\n",
    "\n",
    "print(f\"Stratified K-Fold Cross-validation scores: {cv_scores}\")\n",
    "print(f\"Mean cross-validation score: {cv_scores.mean()}\")"
   ]
  },
  {
   "cell_type": "code",
   "execution_count": 422,
   "id": "2889ecc6",
   "metadata": {},
   "outputs": [
    {
     "name": "stdout",
     "output_type": "stream",
     "text": [
      "Fitting 5 folds for each of 32 candidates, totalling 160 fits\n",
      "Test Accuracy: 0.469721767594108\n",
      "Classification Report:\n",
      "               precision    recall  f1-score   support\n",
      "\n",
      "           0       0.67      0.53      0.59       884\n",
      "           1       0.21      0.32      0.25       338\n",
      "\n",
      "    accuracy                           0.47      1222\n",
      "   macro avg       0.44      0.42      0.42      1222\n",
      "weighted avg       0.54      0.47      0.50      1222\n",
      "\n"
     ]
    },
    {
     "data": {
      "image/png": "[encoded data removed]",
      "text/plain": [
       "<Figure size 800x600 with 2 Axes>"
      ]
     },
     "metadata": {},
     "output_type": "display_data"
    }
   ],
   "source": [
    "param_grid_skf = {\n",
    "    'n_estimators': [100, 200],\n",
    "    'max_depth': [10, 20],\n",
    "    'min_samples_split': [2, 5],\n",
    "    'min_samples_leaf': [2, 4],\n",
    "    'criterion': ['gini', 'entropy'],\n",
    "    'bootstrap': [True]\n",
    "}\n",
    "\n",
    "rf_motor_adjusted_skf = RandomForestClassifier(random_state=42, class_weight='balanced')\n",
    "\n",
    "grid_search_skf = GridSearchCV(estimator=rf_motor_adjusted_skf, param_grid=param_grid_skf, cv=skf, n_jobs=-1, verbose=1, scoring='accuracy')\n",
    "\n",
    "grid_search_skf.fit(X_train_scaled, y_train_motor_adjusted_class_encoded)\n",
    "\n",
    "best_params = grid_search_skf.best_params_\n",
    "\n",
    "final_rf_model_skf = grid_search_skf.best_estimator_\n",
    "\n",
    "y_test_motor_adjusted_pred_skf = final_rf_model_skf.predict(X_test_scaled)\n",
    "\n",
    "print(\"Test Accuracy:\", accuracy_score(y_test_motor_adjusted_class_encoded, y_test_motor_adjusted_pred_skf))\n",
    "print(\"Classification Report:\\n\", classification_report(y_test_motor_adjusted_class_encoded, y_test_motor_adjusted_pred_skf))\n",
    "conf_matrix_skf = confusion_matrix(y_test_motor_adjusted_class_encoded, y_test_motor_adjusted_pred_skf)\n",
    "plt.figure(figsize=(8, 6))\n",
    "sns.heatmap(conf_matrix_skf, annot=True, fmt='d', cmap='Blues', xticklabels=label_encoder_motor_adjusted.classes_, yticklabels=label_encoder_motor_adjusted.classes_)\n",
    "plt.title('Confusion Matrix for Motor UPDRS (Adjusted, Stratified K-Fold)')\n",
    "plt.xlabel('Predicted')\n",
    "plt.ylabel('True')\n",
    "plt.show()"
   ]
  },
  {
   "cell_type": "markdown",
   "id": "0449f909",
   "metadata": {},
   "source": [
    "#### Total UPDRS Adjusted"
   ]
  },
  {
   "cell_type": "code",
   "execution_count": 423,
   "id": "d9a916ce",
   "metadata": {},
   "outputs": [
    {
     "name": "stdout",
     "output_type": "stream",
     "text": [
      "Total UPDRS Classification Report (Adjusted):\n",
      "              precision    recall  f1-score   support\n",
      "\n",
      "        mild       0.36      0.47      0.41       396\n",
      "    moderate       0.71      0.39      0.50       588\n",
      "      severe       0.03      0.05      0.04       238\n",
      "\n",
      "    accuracy                           0.35      1222\n",
      "   macro avg       0.37      0.30      0.32      1222\n",
      "weighted avg       0.46      0.35      0.38      1222\n",
      "\n",
      "Total UPDRS Confusion Matrix (Adjusted):\n"
     ]
    },
    {
     "data": {
      "text/plain": [
       "array([[188,  77, 131],\n",
       "       [129, 230, 229],\n",
       "       [210,  17,  11]])"
      ]
     },
     "execution_count": 423,
     "metadata": {},
     "output_type": "execute_result"
    }
   ],
   "source": [
    "# Random Forest Classifier for Total UPDRS Adjusted\n",
    "rf_total_adjusted = RandomForestClassifier(n_estimators=100, random_state=42)\n",
    "rf_total_adjusted.fit(X_train_scaled, y_train_total_adjusted_class_encoded)\n",
    "y_pred_total_adjusted = rf_total_adjusted.predict(X_test_scaled)\n",
    "print(\"Total UPDRS Classification Report (Adjusted):\")\n",
    "print(classification_report(y_test_total_adjusted_class_encoded, y_pred_total_adjusted, target_names=label_encoder_total_adjusted.classes_))\n",
    "print(\"Total UPDRS Confusion Matrix (Adjusted):\")\n",
    "confusion_matrix(y_test_total_adjusted_class_encoded, y_pred_total_adjusted)"
   ]
  },
  {
   "cell_type": "markdown",
   "id": "f7d87060",
   "metadata": {},
   "source": [
    "#### Motor UPDRS Resampled"
   ]
  },
  {
   "cell_type": "code",
   "execution_count": 424,
   "id": "4f53b6a5",
   "metadata": {},
   "outputs": [
    {
     "name": "stdout",
     "output_type": "stream",
     "text": [
      "Motor UPDRS Classification Report (Resampled):\n",
      "              precision    recall  f1-score   support\n",
      "\n",
      "        mild       1.00      0.97      0.98      1222\n",
      "    moderate       0.00      0.00      0.00         0\n",
      "\n",
      "    accuracy                           0.97      1222\n",
      "   macro avg       0.50      0.48      0.49      1222\n",
      "weighted avg       1.00      0.97      0.98      1222\n",
      "\n",
      "Motor UPDRS Confusion Matrix (Resampled):\n"
     ]
    },
    {
     "name": "stderr",
     "output_type": "stream",
     "text": [
      "/Users/behnazrezaeifar/Documents/Documents - Behnaz’s MacBook Pro/biosignals/biosignal/lib/python3.11/site-packages/sklearn/metrics/_classification.py:1565: UndefinedMetricWarning: Recall is ill-defined and being set to 0.0 in labels with no true samples. Use `zero_division` parameter to control this behavior.\n",
      "  _warn_prf(average, modifier, f\"{metric.capitalize()} is\", len(result))\n",
      "/Users/behnazrezaeifar/Documents/Documents - Behnaz’s MacBook Pro/biosignals/biosignal/lib/python3.11/site-packages/sklearn/metrics/_classification.py:1565: UndefinedMetricWarning: Recall is ill-defined and being set to 0.0 in labels with no true samples. Use `zero_division` parameter to control this behavior.\n",
      "  _warn_prf(average, modifier, f\"{metric.capitalize()} is\", len(result))\n",
      "/Users/behnazrezaeifar/Documents/Documents - Behnaz’s MacBook Pro/biosignals/biosignal/lib/python3.11/site-packages/sklearn/metrics/_classification.py:1565: UndefinedMetricWarning: Recall is ill-defined and being set to 0.0 in labels with no true samples. Use `zero_division` parameter to control this behavior.\n",
      "  _warn_prf(average, modifier, f\"{metric.capitalize()} is\", len(result))\n"
     ]
    },
    {
     "data": {
      "text/plain": [
       "array([[1185,   37],\n",
       "       [   0,    0]])"
      ]
     },
     "execution_count": 424,
     "metadata": {},
     "output_type": "execute_result"
    }
   ],
   "source": [
    "# Random Forest Classifier for Motor UPDRS Resampled\n",
    "rf_motor_resamplesd = RandomForestClassifier(n_estimators=100, random_state=42)\n",
    "rf_motor_resamplesd.fit(X_train_motor_resampled, y_train_motor_resampled_encoded)\n",
    "y_pred_motor_resampled = rf_motor_resamplesd.predict(X_test_scaled)\n",
    "print(\"Motor UPDRS Classification Report (Resampled):\")\n",
    "print(classification_report(y_test_motor_resampled_encoded, y_pred_motor_resampled, target_names=label_encoder_motor_adjusted.classes_))\n",
    "print(\"Motor UPDRS Confusion Matrix (Resampled):\")\n",
    "confusion_matrix(y_test_motor_resampled_encoded, y_pred_motor_resampled)"
   ]
  },
  {
   "cell_type": "markdown",
   "id": "e17ea09b",
   "metadata": {},
   "source": [
    "Test data does not have moderate class only mild and that is the problem here. solution: or split again for classification or use adjusted bins"
   ]
  },
  {
   "cell_type": "markdown",
   "id": "f1f86e94",
   "metadata": {},
   "source": [
    "#### Total UPDRS Resampled"
   ]
  },
  {
   "cell_type": "code",
   "execution_count": 425,
   "id": "080d2446",
   "metadata": {},
   "outputs": [
    {
     "name": "stdout",
     "output_type": "stream",
     "text": [
      "Total UPDRS Classification Report (Resampled):\n",
      "              precision    recall  f1-score   support\n",
      "\n",
      "        mild       0.71      0.64      0.67       960\n",
      "    moderate       0.04      0.06      0.05       262\n",
      "\n",
      "    accuracy                           0.51      1222\n",
      "   macro avg       0.38      0.35      0.36      1222\n",
      "weighted avg       0.57      0.51      0.54      1222\n",
      "\n",
      "Total UPDRS Confusion Matrix (Resampled):\n",
      "[[610 350]\n",
      " [247  15]]\n"
     ]
    }
   ],
   "source": [
    "# Random Forest Classifier for Total UPDRS Resampled\n",
    "target_names_motor_resampled = label_encoder_total_resampled.classes_\n",
    "\n",
    "rf_total_resampled = RandomForestClassifier(n_estimators=100, random_state=42)\n",
    "rf_total_resampled.fit(X_train_total_resampled, y_train_total_resampled_encoded)\n",
    "y_pred_total_resampled = rf_total_resampled.predict(X_test_scaled)\n",
    "\n",
    "print(\"Total UPDRS Classification Report (Resampled):\")\n",
    "print(classification_report(y_test_total_resampled_encoded, y_pred_total_resampled, target_names=target_names_motor_resampled))\n",
    "print(\"Total UPDRS Confusion Matrix (Resampled):\")\n",
    "print(confusion_matrix(y_test_total_resampled_encoded, y_pred_total_resampled))"
   ]
  }
 ],
 "metadata": {
  "kernelspec": {
   "display_name": "biosignal",
   "language": "python",
   "name": "python3"
  },
  "language_info": {
   "codemirror_mode": {
    "name": "ipython",
    "version": 3
   },
   "file_extension": ".py",
   "mimetype": "text/x-python",
   "name": "python",
   "nbconvert_exporter": "python",
   "pygments_lexer": "ipython3",
   "version": "3.11.12"
  }
 },
 "nbformat": 4,
 "nbformat_minor": 5
}
